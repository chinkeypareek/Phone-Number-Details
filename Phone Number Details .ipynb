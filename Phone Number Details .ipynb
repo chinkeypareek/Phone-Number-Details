{
 "cells": [
  {
   "cell_type": "code",
   "execution_count": 1,
   "id": "7ae0591a",
   "metadata": {},
   "outputs": [
    {
     "name": "stdout",
     "output_type": "stream",
     "text": [
      "Requirement already satisfied: phonenumbers in c:\\users\\user\\anaconda3\\lib\\site-packages (8.13.30)Note: you may need to restart the kernel to use updated packages.\n",
      "\n"
     ]
    }
   ],
   "source": [
    "pip install phonenumbers"
   ]
  },
  {
   "cell_type": "code",
   "execution_count": 3,
   "id": "6b1bdf37",
   "metadata": {},
   "outputs": [
    {
     "name": "stdout",
     "output_type": "stream",
     "text": [
      "enter the no. with +__+919887423853\n",
      "Country Code: 91 National Number: 9887423853\n",
      "('Asia/Calcutta',)\n",
      "Idea\n",
      "India\n"
     ]
    }
   ],
   "source": [
    "import phonenumbers\n",
    "from phonenumbers import timezone,geocoder,carrier\n",
    "mobile=input(\"enter the no. with +__\")\n",
    "phone=phonenumbers.parse(mobile)\n",
    "time=timezone.time_zones_for_number(phone)#it gives timezone\n",
    "carrier=carrier.name_for_number(phone,\"en\")#carrier is used to find operator(company)\n",
    "reg=geocoder.description_for_number(phone,\"en\")#geocoder is used for location\n",
    "print(phone)\n",
    "print(time)\n",
    "print(carrier)\n",
    "print(reg)\n",
    "#en- this used to get output in english"
   ]
  },
  {
   "cell_type": "code",
   "execution_count": null,
   "id": "c917e0dc",
   "metadata": {},
   "outputs": [],
   "source": []
  }
 ],
 "metadata": {
  "kernelspec": {
   "display_name": "Python 3 (ipykernel)",
   "language": "python",
   "name": "python3"
  },
  "language_info": {
   "codemirror_mode": {
    "name": "ipython",
    "version": 3
   },
   "file_extension": ".py",
   "mimetype": "text/x-python",
   "name": "python",
   "nbconvert_exporter": "python",
   "pygments_lexer": "ipython3",
   "version": "3.11.5"
  }
 },
 "nbformat": 4,
 "nbformat_minor": 5
}
